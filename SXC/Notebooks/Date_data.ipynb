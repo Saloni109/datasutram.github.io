{
 "cells": [
  {
   "cell_type": "markdown",
   "metadata": {},
   "source": [
    "# Date with Data"
   ]
  },
  {
   "cell_type": "markdown",
   "metadata": {},
   "source": [
    "## Problem statement\n",
    "\n",
    "You wish to go on a date on valentines day and impress your partner by taking her to a good restaurant.  \n",
    "Can you use data science to automate the process of finding a date and also come up with a suggestion for the best matched restaurant?\n",
    "\n",
    "\n",
    "## Well of course you can!"
   ]
  },
  {
   "cell_type": "markdown",
   "metadata": {},
   "source": [
    "## The Data - Let's analyze the data at hand\n",
    "\n",
    "## Restaurant Data\n",
    "\n",
    "![Zomato](Slide3.png)\n",
    "\n",
    "## The Data we could scrap \n",
    "- **Area of the restaurant** \n",
    "- **Cost for two**\n",
    "- **Cuisine**\n",
    "- **Latitude and Longitude**\n",
    "- **Name**\n",
    "- **Rating**\n",
    "- **Votes**\n",
    "\n",
    "---\n",
    "\n",
    "## People Data\n",
    "\n",
    "![Humans](Slide5.png)"
   ]
  },
  {
   "cell_type": "markdown",
   "metadata": {},
   "source": [
    "# Let's make a model to do something with the data\n",
    "\n",
    "## Importing some python modules"
   ]
  },
  {
   "cell_type": "code",
   "execution_count": null,
   "metadata": {
    "collapsed": true
   },
   "outputs": [],
   "source": [
    "import math\n",
    "import numpy as np\n",
    "import pandas as pd\n",
    "import seaborn as sb\n",
    "import matplotlib.pyplot as plt\n",
    "import sklearn\n",
    "import os\n",
    "from pandas import Series, DataFrame\n",
    "from pylab import rcParams\n",
    "from sklearn import preprocessing\n",
    "from sklearn.linear_model import LogisticRegression\n",
    "from sklearn.cross_validation import train_test_split\n",
    "from sklearn import metrics \n",
    "from sklearn.metrics import classification_report"
   ]
  },
  {
   "cell_type": "markdown",
   "metadata": {},
   "source": [
    "## Setting up a LogisticRegression object"
   ]
  },
  {
   "cell_type": "code",
   "execution_count": null,
   "metadata": {},
   "outputs": [],
   "source": [
    "LogReg=LogisticRegression()\n",
    "t=pd.read_excel(\"E:\\\\Anaconda2\\\\Date with data\\\\Restaurant_final.xlsx\")\n",
    "t_s=t[0:700]\n",
    "\n",
    "t_s.columns"
   ]
  },
  {
   "cell_type": "code",
   "execution_count": null,
   "metadata": {},
   "outputs": [],
   "source": [
    "X = t_s.ix[:,(1,3,4,7,9)].values\n",
    "y=  t_s.ix[:,(6)].values"
   ]
  },
  {
   "cell_type": "code",
   "execution_count": null,
   "metadata": {
    "collapsed": true
   },
   "outputs": [],
   "source": []
  },
  {
   "cell_type": "code",
   "execution_count": null,
   "metadata": {
    "collapsed": true
   },
   "outputs": [],
   "source": [
    "X_train, X_test, y_train, y_test = train_test_split(X, y, test_size = .3, random_state=25)"
   ]
  },
  {
   "cell_type": "code",
   "execution_count": null,
   "metadata": {},
   "outputs": [],
   "source": [
    "LogReg = LogisticRegression()\n",
    "LogReg.fit(X_train, y_train)"
   ]
  },
  {
   "cell_type": "code",
   "execution_count": null,
   "metadata": {
    "collapsed": true
   },
   "outputs": [],
   "source": [
    "y_pred = LogReg.predict(X_test)"
   ]
  },
  {
   "cell_type": "code",
   "execution_count": null,
   "metadata": {},
   "outputs": [],
   "source": [
    "from sklearn.metrics import confusion_matrix\n",
    "confusion_matrix = confusion_matrix(y_test, y_pred)\n",
    "confusion_matrix"
   ]
  },
  {
   "cell_type": "code",
   "execution_count": null,
   "metadata": {},
   "outputs": [],
   "source": [
    "X=t.ix[:,(1,3,4,7,9)].values\n",
    "y_LogReg = LogReg.predict(X)"
   ]
  },
  {
   "cell_type": "code",
   "execution_count": null,
   "metadata": {},
   "outputs": [],
   "source": [
    "len(y_LogReg)"
   ]
  },
  {
   "cell_type": "code",
   "execution_count": null,
   "metadata": {
    "collapsed": true
   },
   "outputs": [],
   "source": [
    "l=[]\n",
    "for i in range(len(y_LogReg)):\n",
    "    l+=[{'Regression_pred':y_LogReg[i]}]\n"
   ]
  },
  {
   "cell_type": "code",
   "execution_count": null,
   "metadata": {
    "collapsed": true
   },
   "outputs": [],
   "source": [
    "R_p=pd.DataFrame(l)\n",
    "df=pd.concat([t, R_p], axis=1)"
   ]
  },
  {
   "cell_type": "code",
   "execution_count": null,
   "metadata": {
    "collapsed": true
   },
   "outputs": [],
   "source": [
    "writer=pd.ExcelWriter('E:\\\\Anaconda2\\\\Date with data\\\\Restaurant_Prediction.xlsx')\n",
    "df.to_excel(writer,'Sample')\n",
    "writer.save()"
   ]
  },
  {
   "cell_type": "markdown",
   "metadata": {},
   "source": [
    "## KNN ( K Nearest Neighbours )"
   ]
  },
  {
   "cell_type": "code",
   "execution_count": null,
   "metadata": {
    "collapsed": true
   },
   "outputs": [],
   "source": [
    "import numpy as np\n",
    "from sklearn.cross_validation import train_test_split\n",
    "\n",
    "# create design matrix X and target vector y\n",
    "X = np.array( t_s.ix[:,(1,3,4,7,9)]) \t# end index is exclusive\n",
    "y = np.array(t_s.ix[:,(6)]) \t# another way of indexing a pandas df\n",
    "\n",
    "# split into train and test\n",
    "X_train, X_test, y_train, y_test = train_test_split(X, y, test_size=0.33, random_state=42)"
   ]
  },
  {
   "cell_type": "code",
   "execution_count": null,
   "metadata": {},
   "outputs": [],
   "source": [
    "# loading library\n",
    "from sklearn.neighbors import KNeighborsClassifier\n",
    "from sklearn.metrics import accuracy_score\n",
    "# instantiate learning model (k = 3)\n",
    "knn = KNeighborsClassifier(n_neighbors=3)\n",
    "\n",
    "# fitting the model\n",
    "knn.fit(X_train, y_train)\n",
    "\n",
    "# predict the response\n",
    "pred = knn.predict(X_test)\n",
    "\n",
    "# evaluate accuracy\n",
    "print accuracy_score(y_test, pred)"
   ]
  },
  {
   "cell_type": "code",
   "execution_count": null,
   "metadata": {
    "collapsed": true
   },
   "outputs": [],
   "source": [
    "X = np.array( t.ix[:,(1,3,4,7,9)])\n",
    "y_KNN = knn.predict(X)"
   ]
  },
  {
   "cell_type": "code",
   "execution_count": null,
   "metadata": {
    "collapsed": true
   },
   "outputs": [],
   "source": [
    "l=[]\n",
    "for i in range(len(y_KNN)):\n",
    "    l+=[{'KNN_pred':y_KNN[i]}]"
   ]
  },
  {
   "cell_type": "code",
   "execution_count": null,
   "metadata": {
    "collapsed": true
   },
   "outputs": [],
   "source": [
    "Knn_p=pd.DataFrame(l)\n",
    "df=pd.concat([t,R_p, Knn_p], axis=1)"
   ]
  },
  {
   "cell_type": "code",
   "execution_count": null,
   "metadata": {
    "collapsed": true
   },
   "outputs": [],
   "source": [
    "writer=pd.ExcelWriter('E:\\\\Anaconda2\\\\Date with data\\\\Restaurant_Prediction1.xlsx')\n",
    "df.to_excel(writer,'Sample')\n",
    "writer.save()"
   ]
  },
  {
   "cell_type": "code",
   "execution_count": null,
   "metadata": {
    "collapsed": true
   },
   "outputs": [],
   "source": [
    "Boy_cuisine=['Juices', 'South Indian', 'Street Food']\n",
    "Girl_cuisine=['Chinese', 'Mughlai', 'North Indian']\n",
    "Boy_c=np.array(Boy_cuisine)\n",
    "Girl_c=np.array(Girl_cuisine)"
   ]
  },
  {
   "cell_type": "code",
   "execution_count": null,
   "metadata": {
    "collapsed": true,
    "scrolled": true
   },
   "outputs": [],
   "source": [
    "Cuisine_pref=np.append(Boy_c,Girl_c)\n",
    "Cuisine_pref=np.unique(Cuisine_pref)\n",
    "Cuisine_pref=np.sort(Cuisine_pref)\n",
    "Boy_lat=22.57940\n",
    "Boy_lon=88.35409\n",
    "Girl_lat=22.57940\n",
    "Girl_lon=88.35409"
   ]
  },
  {
   "cell_type": "code",
   "execution_count": null,
   "metadata": {
    "scrolled": false
   },
   "outputs": [],
   "source": [
    "df=pd.read_excel('E:\\\\Anaconda2\\\\Date with data\\\\Restaurant_Prediction.xlsx')\n",
    "len(df)"
   ]
  },
  {
   "cell_type": "code",
   "execution_count": null,
   "metadata": {
    "collapsed": true
   },
   "outputs": [],
   "source": [
    "list_cost=[]\n",
    "for i in range(len(df)):\n",
    "    Res_lat=float(df.iloc[i]['latitude'])\n",
    "    Res_lon=float(df.iloc[i]['longitude'])\n",
    "    Boy_dis=math.sqrt((Boy_lat-Res_lat)*(Boy_lat-Res_lat)+(Boy_lon-Res_lon)*(Boy_lon-Res_lon))\n",
    "    Girl_dis=math.sqrt((Girl_lat-Res_lat)*(Girl_lat-Res_lat)+(Girl_lon-Res_lon)*(Girl_lon-Res_lon))\n",
    "    distance=Boy_dis+Girl_dis\n",
    "    if(df.iloc[i]['Regression_pred']==0):\n",
    "        list_cost+=[{'Food_match':0,'Euclidean_dist':distance}]\n",
    "        continue\n",
    "    cuisine=str(df.iloc[i]['cuisine'])\n",
    "    cuisine=cuisine.strip('[')\n",
    "    cuisine=cuisine.strip(']')\n",
    "    cuisine=cuisine.strip(\"'\")\n",
    "    Cuisine_restaurant=cuisine.split(\"' '\")\n",
    "    l=0\n",
    "    k=0\n",
    "    count=0\n",
    "    while( l <len(Cuisine_pref) and k <len(Cuisine_restaurant)):\n",
    "        if(Cuisine_restaurant[k]==Cuisine_pref[l]):\n",
    "            count+=1\n",
    "            l+=1\n",
    "            k+=1\n",
    "        elif(Cuisine_restaurant[k]>Cuisine_pref[l]):\n",
    "            l+=1\n",
    "        elif(Cuisine_restaurant[k]<Cuisine_pref[l]):\n",
    "            k+=1\n",
    "    list_cost+=[{'Food_match':count,'Euclidean_dist':distance}]\n",
    "      "
   ]
  },
  {
   "cell_type": "markdown",
   "metadata": {},
   "source": []
  },
  {
   "cell_type": "code",
   "execution_count": null,
   "metadata": {
    "collapsed": true
   },
   "outputs": [],
   "source": []
  }
 ],
 "metadata": {
  "kernelspec": {
   "display_name": "Python 2",
   "language": "python",
   "name": "python2"
  }
 },
 "nbformat": 4,
 "nbformat_minor": 2
}
